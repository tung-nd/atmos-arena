{
 "cells": [
  {
   "cell_type": "markdown",
   "metadata": {},
   "source": [
    "# ClimaX S2S Finetuning - Usage"
   ]
  },
  {
   "cell_type": "markdown",
   "metadata": {},
   "source": [
    "On Mint3, the following was run in order to successfully train for 3 vars: \n",
    "\n",
    "- Use env: `climaX` as specified in `home/advit/miniconda3/envs/climaX`\n",
    "- cd into: `/localhome/advit/atmos-arena/atmos_arena`\n",
    "\n",
    "\n",
    "From here, there are two `.yaml` config files: \n",
    "\n",
    "- Testing on Mint3, run: `python s2s_climax/train.py -c /localhome/advit/atmos-arena/configs/s2s_climax_mint3_test.yaml`"
   ]
  },
  {
   "cell_type": "markdown",
   "metadata": {},
   "source": [
    "For training, we will utilize `s2s_climax.yaml`, with the following modifications: \n",
    "\n",
    "- trainer\n",
    "  - default_root_dir = the location of this repo/s2s_climax on eagle (or any server)\n",
    "- data\n",
    "  - root_dir = the location of the data, formatted as train/test/val\n",
    "  - lead_time* = either 336 or 672, depending on model_w3-4 or model_w5-6\n",
    "\n",
    "> \\* Currently, lead_time is set to two weeks (14 X 24 = 336) and window_size is default set to two weeks. This means our model is finetuning to predict the average forecast 3-4 weeks out (taking mean of the 14 days from week 3 to week 4)\n",
    "\n",
    "> \\* When the time comes to train the four week model (W5-6), simply set lead_time to (28 * 24 = 672)"
   ]
  },
  {
   "cell_type": "markdown",
   "metadata": {},
   "source": [
    "Once these modifications are run, simply run: \n",
    "\n",
    "`python s2s_climax/train.py -c /localhome/advit/atmos-arena/configs/s2s_climax.yaml`"
   ]
  }
 ],
 "metadata": {
  "language_info": {
   "name": "python"
  }
 },
 "nbformat": 4,
 "nbformat_minor": 2
}
