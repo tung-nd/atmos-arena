{
 "cells": [
  {
   "cell_type": "code",
   "execution_count": 7,
   "metadata": {},
   "outputs": [
    {
     "name": "stdout",
     "output_type": "stream",
     "text": [
      "/localhome/prateiksinha/atmos-arena/atmos_arena\n"
     ]
    }
   ],
   "source": [
    "%cd /localhome/prateiksinha/atmos-arena/atmos_arena\n",
    "import torch\n",
    "import numpy as np\n",
    "from stormer_arch import Stormer\n",
    "from s2s.mini_stormer_arch import MiniStormer\n",
    "\n",
    "from lightning.pytorch.cli import LightningCLI, SaveConfigCallback\n",
    "from lightning.pytorch.callbacks import ModelCheckpoint\n",
    "from lightning.pytorch.loggers.wandb import WandbLogger\n",
    "from s2s.window_module import WindowForecastingModule\n",
    "from s2s.window_datamodule import WindowDataModule\n",
    "from s2s.window_datamodule import ERA5WindowDataset"
   ]
  },
  {
   "cell_type": "code",
   "execution_count": 2,
   "metadata": {},
   "outputs": [],
   "source": [
    "device = 'cuda:8'\n",
    "variables = [\n",
    "    \"2m_temperature\",\n",
    "    \"10m_u_component_of_wind\",\n",
    "    \"10m_v_component_of_wind\",\n",
    "    # \"geopotential_50\",\n",
    "    # \"geopotential_250\",\n",
    "    # \"geopotential_500\",\n",
    "    # \"geopotential_600\",\n",
    "    # \"geopotential_700\",\n",
    "    # \"geopotential_850\",\n",
    "    # \"geopotential_925\",\n",
    "    # \"u_component_of_wind_50\",\n",
    "    # \"u_component_of_wind_250\",\n",
    "    # \"u_component_of_wind_500\",\n",
    "    # \"u_component_of_wind_600\",\n",
    "    # \"u_component_of_wind_700\",\n",
    "    # \"u_component_of_wind_850\",\n",
    "    # \"u_component_of_wind_925\",\n",
    "    # \"v_component_of_wind_50\",\n",
    "    # \"v_component_of_wind_250\",\n",
    "    # \"v_component_of_wind_500\",\n",
    "    # \"v_component_of_wind_600\",\n",
    "    # \"v_component_of_wind_700\",\n",
    "    # \"v_component_of_wind_850\",\n",
    "    # \"v_component_of_wind_925\",\n",
    "    # \"temperature_50\",\n",
    "    # \"temperature_250\",\n",
    "    # \"temperature_500\",\n",
    "    # \"temperature_600\",\n",
    "    # \"temperature_700\",\n",
    "    # \"temperature_850\",\n",
    "    # \"temperature_925\",\n",
    "    # \"specific_humidity_50\",\n",
    "    # \"specific_humidity_250\",\n",
    "    # \"specific_humidity_500\",\n",
    "    # \"specific_humidity_600\",\n",
    "    # \"specific_humidity_700\",\n",
    "    # \"specific_humidity_850\",\n",
    "    # \"specific_humidity_925\",\n",
    "]"
   ]
  },
  {
   "cell_type": "code",
   "execution_count": 3,
   "metadata": {},
   "outputs": [],
   "source": [
    "num_files_per_day = 4\n",
    "num_weeks = 6\n",
    "datamodule = WindowDataModule(\n",
    "    root_dir = '/localhome/data/datasets/climate/wb2/1.40625deg_6hr_h5df',\n",
    "    in_variables = variables,\n",
    "    out_variables = variables,\n",
    "    num_steps_in_output = 7 * num_weeks * num_files_per_day,\n",
    "    lead_time = 6\n",
    ")\n",
    "datamodule.setup()\n",
    "test_dataloader = datamodule.test_dataloader()\n",
    "\n",
    "model = DirectForecastingModule(\n",
    "    net = Stormer(\n",
    "        in_img_size = [128,256],\n",
    "        in_variables = variables,\n",
    "    ).to(device),\n",
    "    pretrained_path = \"\",\n",
    "    # pretrained_path = \"/localhome/data/ckpts/tungnd/stormer/6_12_24_climax_large_2_True_delta_8/checkpoints/epoch_015.ckpt\",\n",
    ")\n",
    "\n",
    "model.set_transforms(datamodule.in_transforms, datamodule.out_transforms)\n",
    "model.set_lat_lon(*datamodule.get_lat_lon())\n",
    "model.set_lead_time(datamodule.hparams.lead_time)"
   ]
  },
  {
   "cell_type": "code",
   "execution_count": 4,
   "metadata": {},
   "outputs": [
    {
     "name": "stdout",
     "output_type": "stream",
     "text": [
      "Checking batch contents:\n",
      "<class 'torch.Tensor'> | torch.Size([1, 3, 128, 256])\n",
      "<class 'torch.Tensor'> | torch.Size([1, 168, 3, 128, 256])\n",
      "<class 'torch.Tensor'> | torch.Size([1])\n",
      "<class 'list'> | 3\n",
      "<class 'list'> | 3\n"
     ]
    }
   ],
   "source": [
    "def check(dataloader):\n",
    "    sample_batch = next(iter(dataloader))\n",
    "    for i in sample_batch:\n",
    "        t = type(i)\n",
    "        l = len(i) if t == list else i.shape\n",
    "        print(f'{t} | {l}')\n",
    "\n",
    "print('Checking batch contents:')\n",
    "check(test_dataloader)"
   ]
  },
  {
   "cell_type": "code",
   "execution_count": null,
   "metadata": {},
   "outputs": [],
   "source": [
    "# week 1: 0,1,2,3 | 4,5,6,7 | ... | 24,25,26,27\n",
    "# week 2: 28  ... \n",
    "# week 3: 56  ... \n",
    "# week 4: 84  ... \n",
    "# week 5: 112 ... \n",
    "#\n",
    "# window containing weeks x thru y = (28*(x-1), 28*y) = files_per_day x (7*(x-1), 7*y)\n",
    "\n",
    "with torch.no_grad():\n",
    "    model.net.eval()\n",
    "    for index, batch in enumerate(test_dataloader):\n",
    "        x = model.test_step_window(\n",
    "            batch, \n",
    "            windows=[\n",
    "                (7*4*2, 7*4*4), # weeks 3-4\n",
    "                (7*4*4, 7*4*6)  # weeks 5-6\n",
    "            ], \n",
    "            device=device\n",
    "        )\n",
    "        print(f'batch number {index} complete')"
   ]
  },
  {
   "cell_type": "code",
   "execution_count": 6,
   "metadata": {},
   "outputs": [
    {
     "data": {
      "text/plain": [
       "{56: {'w_mse_2m_temperature': tensor(5.4079e+08, device='cuda:8'),\n",
       "  'w_mse_10m_u_component_of_wind': tensor(34.7983, device='cuda:8'),\n",
       "  'w_mse_10m_v_component_of_wind': tensor(275.4200, device='cuda:8'),\n",
       "  'w_mse': 180263860.0,\n",
       "  'w_rmse_2m_temperature': tensor(23254.9180, device='cuda:8'),\n",
       "  'w_rmse_10m_u_component_of_wind': tensor(5.8990, device='cuda:8'),\n",
       "  'w_rmse_10m_v_component_of_wind': tensor(16.5958, device='cuda:8'),\n",
       "  'w_rmse': 7759.137},\n",
       " 112: {'w_mse_2m_temperature': tensor(1.5094e+09, device='cuda:8'),\n",
       "  'w_mse_10m_u_component_of_wind': tensor(66.1080, device='cuda:8'),\n",
       "  'w_mse_10m_v_component_of_wind': tensor(728.8865, device='cuda:8'),\n",
       "  'w_mse': 503141660.0,\n",
       "  'w_rmse_2m_temperature': tensor(38851.3086, device='cuda:8'),\n",
       "  'w_rmse_10m_u_component_of_wind': tensor(8.1307, device='cuda:8'),\n",
       "  'w_rmse_10m_v_component_of_wind': tensor(26.9979, device='cuda:8'),\n",
       "  'w_rmse': 12962.145}}"
      ]
     },
     "execution_count": 6,
     "metadata": {},
     "output_type": "execute_result"
    }
   ],
   "source": [
    "x"
   ]
  },
  {
   "cell_type": "markdown",
   "metadata": {},
   "source": [
    "- add logging\n",
    "- make it a script that you can leave to run\n",
    "\n",
    "X\n",
    "- add new metrics"
   ]
  }
 ],
 "metadata": {
  "kernelspec": {
   "display_name": "cl2",
   "language": "python",
   "name": "python3"
  },
  "language_info": {
   "codemirror_mode": {
    "name": "ipython",
    "version": 3
   },
   "file_extension": ".py",
   "mimetype": "text/x-python",
   "name": "python",
   "nbconvert_exporter": "python",
   "pygments_lexer": "ipython3",
   "version": "3.9.18"
  }
 },
 "nbformat": 4,
 "nbformat_minor": 2
}
