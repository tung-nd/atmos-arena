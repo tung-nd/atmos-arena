{
 "cells": [
  {
   "cell_type": "code",
   "execution_count": 1,
   "metadata": {},
   "outputs": [],
   "source": [
    "import os\n",
    "os.sys.path.append('/localhome/prateiksinha/atmos-arena/atmos_arena/atmos_utils')\n",
    "import numpy as np\n",
    "from pprint import pprint\n",
    "import netCDF4 as nc\n",
    "from metrics import *\n",
    "import torch\n",
    "import csv\n",
    "import pandas as pd\n",
    "import xarray as xr\n",
    "\n",
    "def load_clim(var, lvl=None):\n",
    "    file_path = '/localhome/data/datasets/climate/climatology.nc'\n",
    "    dataset = xr.open_dataset(file_path)\n",
    "    if lvl:\n",
    "        ds[var].sel(level=lvl).to_numpy()\n",
    "    else:\n",
    "        ds[var].to_numpy()\n",
    "\n",
    "def load_test(var, year, lvl=None):\n",
    "    test_path = f'/localhome/data/datasets/climate/era5_corpenicus/{var}/{year}.nc'\n",
    "    dataset = xr.open_dataset(test_path)\n",
    "    var_abbrv = list(dataset.variables.keys())[-1]\n",
    "    if lvl:\n",
    "        return dataset[var_abbrv].sel(level=lvl).to_numpy()\n",
    "    else:\n",
    "        return dataset[var_abbrv].to_numpy()\n"
   ]
  },
  {
   "cell_type": "code",
   "execution_count": 3,
   "metadata": {},
   "outputs": [],
   "source": [
    "device = 'cuda'\n",
    "log_dir = '/localhome/prateiksinha/atmos-arena/atmos_arena/s2s_stormer/clim_data'\n",
    "lat = np.arange(90,-90.25,-0.25)\n",
    "\n",
    "variables = [\n",
    "    # '2m_temperature',\n",
    "    # 'temperature',\n",
    "    # 'specific_humidity',\n",
    "    'geopotential'\n",
    "]\n",
    "levels = [\n",
    "    # None,\n",
    "    # 850,\n",
    "    # 700,\n",
    "    500\n",
    "]\n",
    "years = ['2020', '2021', '2022', '2023']\n",
    "\n",
    "for var, lvl in zip(variables, levels):\n",
    "    \n",
    "    clim = load_clim(var, lvl)\n",
    "    clim = clim.swapaxes(0,1).reshape((1464, 721, 1440))\n",
    "    clim = torch.tensor(clim).to(device)\n",
    "\n",
    "    for year in years:\n",
    "        test = load_test(var, year, lvl)\n",
    "        test = torch.tensor(test).to(device)\n",
    "\n",
    "        window_size = 14 * 4\n",
    "\n",
    "        csv_path = f'{log_dir}/{year}_{var}.csv'\n",
    "        \n",
    "        file = open(csv_path, mode='w', newline='')\n",
    "        writer = csv.writer(file)\n",
    "        writer.writerow(['year', 'variable', 'start', 'mse', 'weight_mse', 'weighted_rmse']) \n",
    "\n",
    "        with torch.no_grad():\n",
    "            for i in range(1464 - window_size):\n",
    "                clim_window = torch.mean(clim[i:i+window_size,:,:], dim=0)[None,None,:,:]\n",
    "                test_window = torch.mean(test[i:i+window_size,:,:], dim=0)[None,None,:,:]\n",
    "                \n",
    "                mse_ = mse(clim_window, test_window, [var])['loss'].item()\n",
    "                l_mse = lat_weighted_mse(clim_window, test_window, [var], lat)['loss'].item()\n",
    "                l_rmse = lat_weighted_rmse(clim_window, test_window, lambda x:x, [var], lat, None)['w_rmse']\n",
    "                bias = lat_weighted_mean_bias(clim_window, test_window, lambda x:x, [var], lat, None)['w_rmse']\n",
    "                writer.writerow([year, var, i, mse_, l_mse, l_rmse])    \n",
    "                print(i, end = '\\r')\n",
    "        file.close()"
   ]
  },
  {
   "cell_type": "code",
   "execution_count": 2,
   "metadata": {},
   "outputs": [
    {
     "name": "stdout",
     "output_type": "stream",
     "text": [
      "specific_humidity :\n",
      "mse: 4.189988961160831e-07\n",
      "weight_mse: 5.900952058311402e-07\n",
      "weighted_rmse: 0.0007656572353564955\n",
      "\n"
     ]
    }
   ],
   "source": [
    "csvs = []\n",
    "\n",
    "for var in variables:\n",
    "    print(var,':')\n",
    "    for year in years:\n",
    "        csvs.append(f'{log_dir}/{year}_{var}.csv')\n",
    "    all_years = pd.concat([pd.read_csv(x) for x in csvs])\n",
    "    for metric in ['mse', 'weight_mse', 'weighted_rmse']:\n",
    "        print(f'{metric}: {all_years[metric].mean()}')\n",
    "    print()\n",
    "    csvs = []    "
   ]
  }
 ],
 "metadata": {
  "kernelspec": {
   "display_name": "ml",
   "language": "python",
   "name": "python3"
  },
  "language_info": {
   "codemirror_mode": {
    "name": "ipython",
    "version": 3
   },
   "file_extension": ".py",
   "mimetype": "text/x-python",
   "name": "python",
   "nbconvert_exporter": "python",
   "pygments_lexer": "ipython3",
   "version": "3.11.5"
  }
 },
 "nbformat": 4,
 "nbformat_minor": 2
}
